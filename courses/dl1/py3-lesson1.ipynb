{
 "cells": [
  {
   "cell_type": "markdown",
   "metadata": {},
   "source": [
    "## Image classification with Convolutional Neural Networks"
   ]
  },
  {
   "cell_type": "markdown",
   "metadata": {},
   "source": [
    "Welcome to the first week of the second deep learning certificate! We're going to use convolutional neural networks (CNNs) to allow our computer to see - something that is only possible thanks to deep learning."
   ]
  },
  {
   "cell_type": "markdown",
   "metadata": {},
   "source": [
    "## Introduction to our first task: 'Dogs vs Cats'"
   ]
  },
  {
   "cell_type": "markdown",
   "metadata": {},
   "source": [
    "We're going to try to create a model to enter the Dogs vs Cats competition at Kaggle. There are 25,000 labelled dog and cat photos available for training, and 12,500 in the test set that we have to try to label for this competition. According to the Kaggle web-site, when this competition was launched (end of 2013): \"State of the art: The current literature suggests machine classifiers can score above 80% accuracy on this task\". So if we can beat 80%, then we will be at the cutting edge as of 2013!"
   ]
  },
  {
   "cell_type": "code",
   "execution_count": 1,
   "metadata": {},
   "outputs": [],
   "source": [
    "# Put these at the top of every notebook, to get automatic reloading and inline plotting\n",
    "%reload_ext autoreload\n",
    "%autoreload 2\n",
    "%matplotlib inline"
   ]
  },
  {
   "cell_type": "markdown",
   "metadata": {},
   "source": [
    "Here we import the libraries we need. We'll learn about what each does during the course."
   ]
  },
  {
   "cell_type": "code",
   "execution_count": 2,
   "metadata": {
    "scrolled": true
   },
   "outputs": [
    {
     "name": "stdout",
     "output_type": "stream",
     "text": [
      "Requirement already satisfied: fastai in /home/iss-user/anaconda3/envs/iss-env-py3/lib/python3.6/site-packages\n",
      "Requirement already satisfied: kaggle-cli in /home/iss-user/anaconda3/envs/iss-env-py3/lib/python3.6/site-packages (from fastai)\n",
      "Requirement already satisfied: awscli in /home/iss-user/anaconda3/envs/iss-env-py3/lib/python3.6/site-packages (from fastai)\n",
      "Requirement already satisfied: entrypoints in /home/iss-user/anaconda3/envs/iss-env-py3/lib/python3.6/site-packages (from fastai)\n",
      "Requirement already satisfied: nbconvert in /home/iss-user/anaconda3/envs/iss-env-py3/lib/python3.6/site-packages (from fastai)\n",
      "Requirement already satisfied: ipython in /home/iss-user/anaconda3/envs/iss-env-py3/lib/python3.6/site-packages (from fastai)\n",
      "Requirement already satisfied: nbformat in /home/iss-user/anaconda3/envs/iss-env-py3/lib/python3.6/site-packages (from fastai)\n",
      "Requirement already satisfied: certifi in /home/iss-user/anaconda3/envs/iss-env-py3/lib/python3.6/site-packages (from fastai)\n",
      "Requirement already satisfied: pickleshare in /home/iss-user/anaconda3/envs/iss-env-py3/lib/python3.6/site-packages (from fastai)\n",
      "Requirement already satisfied: python-dateutil in /home/iss-user/anaconda3/envs/iss-env-py3/lib/python3.6/site-packages (from fastai)\n",
      "Requirement already satisfied: decorator in /home/iss-user/anaconda3/envs/iss-env-py3/lib/python3.6/site-packages (from fastai)\n",
      "Requirement already satisfied: scipy in /home/iss-user/anaconda3/envs/iss-env-py3/lib/python3.6/site-packages (from fastai)\n",
      "Requirement already satisfied: plotnine in /home/iss-user/anaconda3/envs/iss-env-py3/lib/python3.6/site-packages (from fastai)\n",
      "Requirement already satisfied: jedi in /home/iss-user/anaconda3/envs/iss-env-py3/lib/python3.6/site-packages (from fastai)\n",
      "Requirement already satisfied: pyparsing in /home/iss-user/anaconda3/envs/iss-env-py3/lib/python3.6/site-packages (from fastai)\n",
      "Requirement already satisfied: Pillow in /home/iss-user/anaconda3/envs/iss-env-py3/lib/python3.6/site-packages (from fastai)\n",
      "Requirement already satisfied: seaborn in /home/iss-user/anaconda3/envs/iss-env-py3/lib/python3.6/site-packages (from fastai)\n",
      "Requirement already satisfied: tqdm in /home/iss-user/anaconda3/envs/iss-env-py3/lib/python3.6/site-packages (from fastai)\n",
      "Requirement already satisfied: traitlets in /home/iss-user/anaconda3/envs/iss-env-py3/lib/python3.6/site-packages (from fastai)\n",
      "Requirement already satisfied: isoweek in /home/iss-user/anaconda3/envs/iss-env-py3/lib/python3.6/site-packages (from fastai)\n",
      "Requirement already satisfied: bleach in /home/iss-user/anaconda3/envs/iss-env-py3/lib/python3.6/site-packages (from fastai)\n",
      "Requirement already satisfied: notebook in /home/iss-user/anaconda3/envs/iss-env-py3/lib/python3.6/site-packages (from fastai)\n",
      "Requirement already satisfied: sklearn-pandas in /home/iss-user/anaconda3/envs/iss-env-py3/lib/python3.6/site-packages (from fastai)\n",
      "Requirement already satisfied: tornado in /home/iss-user/anaconda3/envs/iss-env-py3/lib/python3.6/site-packages (from fastai)\n",
      "Requirement already satisfied: jupyter-client in /home/iss-user/anaconda3/envs/iss-env-py3/lib/python3.6/site-packages (from fastai)\n",
      "Requirement already satisfied: PyYAML in /home/iss-user/anaconda3/envs/iss-env-py3/lib/python3.6/site-packages (from fastai)\n",
      "Requirement already satisfied: jsonschema in /home/iss-user/anaconda3/envs/iss-env-py3/lib/python3.6/site-packages (from fastai)\n",
      "Requirement already satisfied: MarkupSafe in /home/iss-user/anaconda3/envs/iss-env-py3/lib/python3.6/site-packages (from fastai)\n",
      "Requirement already satisfied: feather-format in /home/iss-user/anaconda3/envs/iss-env-py3/lib/python3.6/site-packages (from fastai)\n",
      "Requirement already satisfied: terminado in /home/iss-user/anaconda3/envs/iss-env-py3/lib/python3.6/site-packages (from fastai)\n",
      "Requirement already satisfied: ipython-genutils in /home/iss-user/anaconda3/envs/iss-env-py3/lib/python3.6/site-packages (from fastai)\n",
      "Requirement already satisfied: numpy in /home/iss-user/anaconda3/envs/iss-env-py3/lib/python3.6/site-packages (from fastai)\n",
      "Requirement already satisfied: jupyter-console in /home/iss-user/anaconda3/envs/iss-env-py3/lib/python3.6/site-packages (from fastai)\n",
      "Requirement already satisfied: matplotlib in /home/iss-user/anaconda3/envs/iss-env-py3/lib/python3.6/site-packages (from fastai)\n",
      "Requirement already satisfied: bcolz in /home/iss-user/anaconda3/envs/iss-env-py3/lib/python3.6/site-packages (from fastai)\n",
      "Requirement already satisfied: ptyprocess in /home/iss-user/anaconda3/envs/iss-env-py3/lib/python3.6/site-packages (from fastai)\n",
      "Requirement already satisfied: simplegeneric in /home/iss-user/anaconda3/envs/iss-env-py3/lib/python3.6/site-packages (from fastai)\n",
      "Requirement already satisfied: testpath in /home/iss-user/anaconda3/envs/iss-env-py3/lib/python3.6/site-packages (from fastai)\n",
      "Requirement already satisfied: jupyter-core in /home/iss-user/anaconda3/envs/iss-env-py3/lib/python3.6/site-packages (from fastai)\n",
      "Requirement already satisfied: qtconsole in /home/iss-user/anaconda3/envs/iss-env-py3/lib/python3.6/site-packages (from fastai)\n",
      "Requirement already satisfied: wcwidth in /home/iss-user/anaconda3/envs/iss-env-py3/lib/python3.6/site-packages (from fastai)\n",
      "Requirement already satisfied: html5lib in /home/iss-user/anaconda3/envs/iss-env-py3/lib/python3.6/site-packages (from fastai)\n",
      "Requirement already satisfied: ipywidgets in /home/iss-user/anaconda3/envs/iss-env-py3/lib/python3.6/site-packages (from fastai)\n",
      "Requirement already satisfied: cycler in /home/iss-user/anaconda3/envs/iss-env-py3/lib/python3.6/site-packages (from fastai)\n",
      "Requirement already satisfied: ipykernel in /home/iss-user/anaconda3/envs/iss-env-py3/lib/python3.6/site-packages (from fastai)\n",
      "Requirement already satisfied: pytz in /home/iss-user/anaconda3/envs/iss-env-py3/lib/python3.6/site-packages (from fastai)\n",
      "Requirement already satisfied: Jinja2 in /home/iss-user/anaconda3/envs/iss-env-py3/lib/python3.6/site-packages (from fastai)\n",
      "Requirement already satisfied: pandas-summary in /home/iss-user/anaconda3/envs/iss-env-py3/lib/python3.6/site-packages (from fastai)\n",
      "Requirement already satisfied: pexpect in /home/iss-user/anaconda3/envs/iss-env-py3/lib/python3.6/site-packages (from fastai)\n",
      "Requirement already satisfied: olefile in /home/iss-user/anaconda3/envs/iss-env-py3/lib/python3.6/site-packages (from fastai)\n",
      "Requirement already satisfied: Pygments in /home/iss-user/anaconda3/envs/iss-env-py3/lib/python3.6/site-packages (from fastai)\n",
      "Requirement already satisfied: jupyter in /home/iss-user/anaconda3/envs/iss-env-py3/lib/python3.6/site-packages (from fastai)\n",
      "Requirement already satisfied: jupyter-contrib-nbextensions in /home/iss-user/anaconda3/envs/iss-env-py3/lib/python3.6/site-packages (from fastai)\n",
      "Requirement already satisfied: pandas in /home/iss-user/anaconda3/envs/iss-env-py3/lib/python3.6/site-packages (from fastai)\n",
      "Requirement already satisfied: prompt-toolkit in /home/iss-user/anaconda3/envs/iss-env-py3/lib/python3.6/site-packages (from fastai)\n",
      "Requirement already satisfied: torchtext in /home/iss-user/anaconda3/envs/iss-env-py3/lib/python3.6/site-packages (from fastai)\n",
      "Requirement already satisfied: six in /home/iss-user/anaconda3/envs/iss-env-py3/lib/python3.6/site-packages (from fastai)\n",
      "Requirement already satisfied: widgetsnbextension in /home/iss-user/anaconda3/envs/iss-env-py3/lib/python3.6/site-packages (from fastai)\n",
      "Requirement already satisfied: pyzmq in /home/iss-user/anaconda3/envs/iss-env-py3/lib/python3.6/site-packages (from fastai)\n",
      "Requirement already satisfied: webencodings in /home/iss-user/anaconda3/envs/iss-env-py3/lib/python3.6/site-packages (from fastai)\n",
      "Requirement already satisfied: mistune in /home/iss-user/anaconda3/envs/iss-env-py3/lib/python3.6/site-packages (from fastai)\n",
      "Requirement already satisfied: pandocfilters in /home/iss-user/anaconda3/envs/iss-env-py3/lib/python3.6/site-packages (from fastai)\n",
      "Requirement already satisfied: graphviz in /home/iss-user/anaconda3/envs/iss-env-py3/lib/python3.6/site-packages (from fastai)\n",
      "Requirement already satisfied: opencv-python in /home/iss-user/anaconda3/envs/iss-env-py3/lib/python3.6/site-packages (from fastai)\n",
      "Requirement already satisfied: cssselect<1.1,>=1.0.1 in /home/iss-user/anaconda3/envs/iss-env-py3/lib/python3.6/site-packages (from kaggle-cli->fastai)\n"
     ]
    },
    {
     "name": "stdout",
     "output_type": "stream",
     "text": [
      "Requirement already satisfied: lxml<4.1,>=4.0.0 in /home/iss-user/anaconda3/envs/iss-env-py3/lib/python3.6/site-packages (from kaggle-cli->fastai)\n",
      "Requirement already satisfied: progressbar2<3.35,>=3.34.3 in /home/iss-user/anaconda3/envs/iss-env-py3/lib/python3.6/site-packages (from kaggle-cli->fastai)\n",
      "Requirement already satisfied: cliff<2.9,>=2.8.0 in /home/iss-user/anaconda3/envs/iss-env-py3/lib/python3.6/site-packages (from kaggle-cli->fastai)\n",
      "Requirement already satisfied: beautifulsoup4<4.7,>=4.6.0 in /home/iss-user/anaconda3/envs/iss-env-py3/lib/python3.6/site-packages (from kaggle-cli->fastai)\n",
      "Requirement already satisfied: configparser in /home/iss-user/anaconda3/envs/iss-env-py3/lib/python3.6/site-packages (from kaggle-cli->fastai)\n",
      "Requirement already satisfied: MechanicalSoup<0.9,>=0.7.0 in /home/iss-user/anaconda3/envs/iss-env-py3/lib/python3.6/site-packages (from kaggle-cli->fastai)\n",
      "Requirement already satisfied: rsa<=3.5.0,>=3.1.2 in /home/iss-user/anaconda3/envs/iss-env-py3/lib/python3.6/site-packages (from awscli->fastai)\n",
      "Requirement already satisfied: s3transfer<0.2.0,>=0.1.12 in /home/iss-user/anaconda3/envs/iss-env-py3/lib/python3.6/site-packages (from awscli->fastai)\n",
      "Requirement already satisfied: docutils>=0.10 in /home/iss-user/anaconda3/envs/iss-env-py3/lib/python3.6/site-packages (from awscli->fastai)\n",
      "Requirement already satisfied: colorama<=0.3.7,>=0.2.5 in /home/iss-user/anaconda3/envs/iss-env-py3/lib/python3.6/site-packages (from awscli->fastai)\n",
      "Requirement already satisfied: botocore==1.9.2 in /home/iss-user/anaconda3/envs/iss-env-py3/lib/python3.6/site-packages (from awscli->fastai)\n",
      "Requirement already satisfied: setuptools>=18.5 in /home/iss-user/anaconda3/envs/iss-env-py3/lib/python3.6/site-packages (from ipython->fastai)\n",
      "Requirement already satisfied: statsmodels>=0.8.0 in /home/iss-user/anaconda3/envs/iss-env-py3/lib/python3.6/site-packages (from plotnine->fastai)\n",
      "Requirement already satisfied: mizani>=0.4.1 in /home/iss-user/anaconda3/envs/iss-env-py3/lib/python3.6/site-packages (from plotnine->fastai)\n",
      "Requirement already satisfied: patsy>=0.4.1 in /home/iss-user/anaconda3/envs/iss-env-py3/lib/python3.6/site-packages (from plotnine->fastai)\n",
      "Requirement already satisfied: parso==0.1.* in /home/iss-user/anaconda3/envs/iss-env-py3/lib/python3.6/site-packages (from jedi->fastai)\n",
      "Requirement already satisfied: scikit-learn>=0.15.0 in /home/iss-user/anaconda3/envs/iss-env-py3/lib/python3.6/site-packages (from sklearn-pandas->fastai)\n",
      "Requirement already satisfied: pyarrow>=0.4.0 in /home/iss-user/anaconda3/envs/iss-env-py3/lib/python3.6/site-packages (from feather-format->fastai)\n",
      "Requirement already satisfied: jupyter-highlight-selected-word>=0.0.10 in /home/iss-user/anaconda3/envs/iss-env-py3/lib/python3.6/site-packages (from jupyter-contrib-nbextensions->fastai)\n",
      "Requirement already satisfied: jupyter-latex-envs>=1.3.8 in /home/iss-user/anaconda3/envs/iss-env-py3/lib/python3.6/site-packages (from jupyter-contrib-nbextensions->fastai)\n",
      "Requirement already satisfied: jupyter-nbextensions-configurator>=0.4.0 in /home/iss-user/anaconda3/envs/iss-env-py3/lib/python3.6/site-packages (from jupyter-contrib-nbextensions->fastai)\n",
      "Requirement already satisfied: jupyter-contrib-core>=0.3.3 in /home/iss-user/anaconda3/envs/iss-env-py3/lib/python3.6/site-packages (from jupyter-contrib-nbextensions->fastai)\n",
      "Requirement already satisfied: requests in /home/iss-user/anaconda3/envs/iss-env-py3/lib/python3.6/site-packages (from torchtext->fastai)\n",
      "Requirement already satisfied: python-utils>=2.1.0 in /home/iss-user/anaconda3/envs/iss-env-py3/lib/python3.6/site-packages (from progressbar2<3.35,>=3.34.3->kaggle-cli->fastai)\n",
      "Requirement already satisfied: cmd2>=0.6.7 in /home/iss-user/anaconda3/envs/iss-env-py3/lib/python3.6/site-packages (from cliff<2.9,>=2.8.0->kaggle-cli->fastai)\n",
      "Requirement already satisfied: PrettyTable<0.8,>=0.7.1 in /home/iss-user/anaconda3/envs/iss-env-py3/lib/python3.6/site-packages (from cliff<2.9,>=2.8.0->kaggle-cli->fastai)\n",
      "Requirement already satisfied: stevedore>=1.20.0 in /home/iss-user/anaconda3/envs/iss-env-py3/lib/python3.6/site-packages (from cliff<2.9,>=2.8.0->kaggle-cli->fastai)\n",
      "Requirement already satisfied: pbr!=2.1.0,>=2.0.0 in /home/iss-user/anaconda3/envs/iss-env-py3/lib/python3.6/site-packages (from cliff<2.9,>=2.8.0->kaggle-cli->fastai)\n",
      "Requirement already satisfied: pyasn1>=0.1.3 in /home/iss-user/anaconda3/envs/iss-env-py3/lib/python3.6/site-packages (from rsa<=3.5.0,>=3.1.2->awscli->fastai)\n",
      "Requirement already satisfied: jmespath<1.0.0,>=0.7.1 in /home/iss-user/anaconda3/envs/iss-env-py3/lib/python3.6/site-packages (from botocore==1.9.2->awscli->fastai)\n",
      "Requirement already satisfied: palettable in /home/iss-user/anaconda3/envs/iss-env-py3/lib/python3.6/site-packages (from mizani>=0.4.1->plotnine->fastai)\n",
      "Requirement already satisfied: chardet<3.1.0,>=3.0.2 in /home/iss-user/anaconda3/envs/iss-env-py3/lib/python3.6/site-packages (from requests->torchtext->fastai)\n",
      "Requirement already satisfied: idna<2.7,>=2.5 in /home/iss-user/anaconda3/envs/iss-env-py3/lib/python3.6/site-packages (from requests->torchtext->fastai)\n",
      "Requirement already satisfied: urllib3<1.23,>=1.21.1 in /home/iss-user/anaconda3/envs/iss-env-py3/lib/python3.6/site-packages (from requests->torchtext->fastai)\n",
      "Requirement already satisfied: pyperclip in /home/iss-user/anaconda3/envs/iss-env-py3/lib/python3.6/site-packages (from cmd2>=0.6.7->cliff<2.9,>=2.8.0->kaggle-cli->fastai)\n"
     ]
    }
   ],
   "source": [
    "!pip install fastai"
   ]
  },
  {
   "cell_type": "code",
   "execution_count": 3,
   "metadata": {},
   "outputs": [],
   "source": [
    "# This file contains all the main external libs we'll use\n",
    "from fastai.imports import *"
   ]
  },
  {
   "cell_type": "code",
   "execution_count": 4,
   "metadata": {},
   "outputs": [],
   "source": [
    "from fastai.transforms import *\n",
    "from fastai.conv_learner import *\n",
    "from fastai.model import *\n",
    "from fastai.dataset import *\n",
    "from fastai.sgdr import *\n",
    "from fastai.plots import *"
   ]
  },
  {
   "cell_type": "markdown",
   "metadata": {},
   "source": [
    "`PATH` is the path to your data - if you use the recommended setup approaches from the lesson, you won't need to change this. `sz` is the size that the images will be resized to in order to ensure that the training runs quickly. We'll be talking about this parameter a lot during the course. Leave it at `224` for now."
   ]
  },
  {
   "cell_type": "code",
   "execution_count": 5,
   "metadata": {},
   "outputs": [],
   "source": [
    "PATH = \"data/dogscats/\"\n",
    "sz=224"
   ]
  },
  {
   "cell_type": "markdown",
   "metadata": {},
   "source": [
    "It's important that you have a working NVidia GPU set up. The programming framework used to behind the scenes to work with NVidia GPUs is called CUDA. Therefore, you need to ensure the following line returns `True` before you proceed. If you have problems with this, please check the FAQ and ask for help on [the forums](http://forums.fast.ai)."
   ]
  },
  {
   "cell_type": "code",
   "execution_count": 6,
   "metadata": {},
   "outputs": [
    {
     "data": {
      "text/plain": [
       "False"
      ]
     },
     "execution_count": 6,
     "metadata": {},
     "output_type": "execute_result"
    }
   ],
   "source": [
    "torch.cuda.is_available()"
   ]
  },
  {
   "cell_type": "markdown",
   "metadata": {},
   "source": [
    "In addition, NVidia provides special accelerated functions for deep learning in a package called CuDNN. Although not strictly necessary, it will improve training performance significantly, and is included by default in all supported fastai configurations. Therefore, if the following does not return `True`, you may want to look into why."
   ]
  },
  {
   "cell_type": "code",
   "execution_count": 7,
   "metadata": {},
   "outputs": [
    {
     "data": {
      "text/plain": [
       "True"
      ]
     },
     "execution_count": 7,
     "metadata": {},
     "output_type": "execute_result"
    }
   ],
   "source": [
    "torch.backends.cudnn.enabled"
   ]
  },
  {
   "cell_type": "markdown",
   "metadata": {
    "heading_collapsed": true
   },
   "source": [
    "### Extra steps if NOT using Crestle or Paperspace or our scripts"
   ]
  },
  {
   "cell_type": "markdown",
   "metadata": {
    "hidden": true
   },
   "source": [
    "The dataset is available at http://files.fast.ai/data/dogscats.zip. You can download it directly on your server by running the following line in your terminal. `wget http://files.fast.ai/data/dogscats.zip`. You should put the data in a subdirectory of this notebook's directory, called `data/`. Note that this data is already available in Crestle and the Paperspace fast.ai template."
   ]
  },
  {
   "cell_type": "markdown",
   "metadata": {
    "heading_collapsed": true
   },
   "source": [
    "### Extra steps if using Crestle"
   ]
  },
  {
   "cell_type": "markdown",
   "metadata": {
    "hidden": true
   },
   "source": [
    "Crestle has the datasets required for fast.ai in /datasets, so we'll create symlinks to the data we want for this competition. (NB: we can't write to /datasets, but we need a place to store temporary files, so we create our own writable directory to put the symlinks in, and we also take advantage of Crestle's `/cache/` faster temporary storage space.)\n",
    "\n",
    "To run these commands (**which you should only do if using Crestle**) remove the `#` characters from the start of each line."
   ]
  },
  {
   "cell_type": "code",
   "execution_count": 8,
   "metadata": {
    "hidden": true
   },
   "outputs": [],
   "source": [
    "# os.makedirs('data/dogscats/models', exist_ok=True)\n",
    "\n",
    "# !ln -s /datasets/fast.ai/dogscats/train {PATH}\n",
    "# !ln -s /datasets/fast.ai/dogscats/test {PATH}\n",
    "# !ln -s /datasets/fast.ai/dogscats/valid {PATH}\n",
    "\n",
    "# os.makedirs('/cache/tmp', exist_ok=True)\n",
    "# !ln -fs /cache/tmp {PATH}"
   ]
  },
  {
   "cell_type": "code",
   "execution_count": 9,
   "metadata": {
    "hidden": true
   },
   "outputs": [],
   "source": [
    "# os.makedirs('/cache/tmp', exist_ok=True)\n",
    "# !ln -fs /cache/tmp {PATH}"
   ]
  },
  {
   "cell_type": "markdown",
   "metadata": {
    "heading_collapsed": true
   },
   "source": [
    "## First look at cat pictures"
   ]
  },
  {
   "cell_type": "markdown",
   "metadata": {
    "hidden": true
   },
   "source": [
    "Our library will assume that you have *train* and *valid* directories. It also assumes that each dir will have subdirs for each class you wish to recognize (in this case, 'cats' and 'dogs')."
   ]
  },
  {
   "cell_type": "code",
   "execution_count": 10,
   "metadata": {
    "hidden": true,
    "scrolled": true
   },
   "outputs": [
    {
     "data": {
      "text/plain": [
       "['sample', 'valid', 'test1', 'models', 'train', 'tmp']"
      ]
     },
     "execution_count": 10,
     "metadata": {},
     "output_type": "execute_result"
    }
   ],
   "source": [
    "os.listdir(PATH)"
   ]
  },
  {
   "cell_type": "code",
   "execution_count": 11,
   "metadata": {
    "hidden": true
   },
   "outputs": [
    {
     "data": {
      "text/plain": [
       "['dogs', 'cats']"
      ]
     },
     "execution_count": 11,
     "metadata": {},
     "output_type": "execute_result"
    }
   ],
   "source": [
    "os.listdir(f'{PATH}valid')"
   ]
  },
  {
   "cell_type": "code",
   "execution_count": 12,
   "metadata": {
    "hidden": true
   },
   "outputs": [
    {
     "data": {
      "text/plain": [
       "['cat.11551.jpg',\n",
       " 'cat.4646.jpg',\n",
       " 'cat.10483.jpg',\n",
       " 'cat.4063.jpg',\n",
       " 'cat.584.jpg']"
      ]
     },
     "execution_count": 12,
     "metadata": {},
     "output_type": "execute_result"
    }
   ],
   "source": [
    "files = os.listdir(f'{PATH}valid/cats')[:5]\n",
    "files"
   ]
  },
  {
   "cell_type": "code",
   "execution_count": 13,
   "metadata": {
    "hidden": true
   },
   "outputs": [
    {
     "data": {
      "image/png": "[encoded data removed]",
      "text/plain": [
       "<matplotlib.figure.Figure at 0x7f6ea820fb38>"
      ]
     },
     "metadata": {},
     "output_type": "display_data"
    }
   ],
   "source": [
    "img = plt.imread(f'{PATH}valid/cats/{files[0]}')\n",
    "plt.imshow(img);"
   ]
  },
  {
   "cell_type": "markdown",
   "metadata": {
    "hidden": true
   },
   "source": [
    "Here is how the raw data looks like"
   ]
  },
  {
   "cell_type": "code",
   "execution_count": 14,
   "metadata": {
    "hidden": true
   },
   "outputs": [
    {
     "data": {
      "text/plain": [
       "(499, 429, 3)"
      ]
     },
     "execution_count": 14,
     "metadata": {},
     "output_type": "execute_result"
    }
   ],
   "source": [
    "img.shape"
   ]
  },
  {
   "cell_type": "code",
   "execution_count": 15,
   "metadata": {
    "hidden": true
   },
   "outputs": [
    {
     "data": {
      "text/plain": [
       "array([[[254, 254, 254],\n",
       "        [254, 254, 254],\n",
       "        [254, 254, 254],\n",
       "        [254, 254, 254]],\n",
       "\n",
       "       [[254, 254, 254],\n",
       "        [254, 254, 254],\n",
       "        [254, 254, 254],\n",
       "        [254, 254, 254]],\n",
       "\n",
       "       [[254, 254, 254],\n",
       "        [254, 254, 254],\n",
       "        [254, 254, 254],\n",
       "        [254, 254, 254]],\n",
       "\n",
       "       [[254, 254, 254],\n",
       "        [254, 254, 254],\n",
       "        [254, 254, 254],\n",
       "        [254, 254, 254]]], dtype=uint8)"
      ]
     },
     "execution_count": 15,
     "metadata": {},
     "output_type": "execute_result"
    }
   ],
   "source": [
    "img[:4,:4]"
   ]
  },
  {
   "cell_type": "markdown",
   "metadata": {
    "heading_collapsed": true
   },
   "source": [
    "## Our first model: quick start"
   ]
  },
  {
   "cell_type": "markdown",
   "metadata": {
    "hidden": true
   },
   "source": [
    "We're going to use a <b>pre-trained</b> model, that is, a model created by some one else to solve a different problem. Instead of building a model from scratch to solve a similar problem, we'll use a model trained on ImageNet (1.2 million images and 1000 classes) as a starting point. The model is a Convolutional Neural Network (CNN), a type of Neural Network that builds state-of-the-art models for computer vision. We'll be learning all about CNNs during this course.\n",
    "\n",
    "We will be using the <b>resnet34</b> model. resnet34 is a version of the model that won the 2015 ImageNet competition. Here is more info on [resnet models](https://github.com/KaimingHe/deep-residual-networks). We'll be studying them in depth later, but for now we'll focus on using them effectively.\n",
    "\n",
    "Here's how to train and evalulate a *dogs vs cats* model in 3 lines of code, and under 20 seconds:"
   ]
  },
  {
   "cell_type": "code",
   "execution_count": 16,
   "metadata": {},
   "outputs": [],
   "source": [
    "# Uncomment the below if you need to reset your precomputed activations\n",
    "# shutil.rmtree(f'{PATH}tmp', ignore_errors=True)"
   ]
  },
  {
   "cell_type": "code",
   "execution_count": null,
   "metadata": {
    "hidden": true,
    "scrolled": false
   },
   "outputs": [],
   "source": [
    "arch=resnet34\n",
    "data = ImageClassifierData.from_paths(PATH, tfms=tfms_from_model(arch, sz))\n",
    "learn = ConvLearner.pretrained(arch, data, precompute=True)\n",
    "learn.fit(0.01, 2)"
   ]
  },
  {
   "cell_type": "markdown",
   "metadata": {
    "hidden": true
   },
   "source": [
    "How good is this model? Well, as we mentioned, prior to this competition, the state of the art was 80% accuracy. But the competition resulted in a huge jump to 98.9% accuracy, with the author of a popular deep learning library winning the competition. Extraordinarily, less than 4 years later, we can now beat that result in seconds! Even last year in this same course, our initial model had 98.3% accuracy, which is nearly double the error we're getting just a year later, and that took around 10 minutes to compute."
   ]
  },
  {
   "cell_type": "markdown",
   "metadata": {
    "heading_collapsed": true
   },
   "source": [
    "## Analyzing results: looking at pictures"
   ]
  },
  {
   "cell_type": "markdown",
   "metadata": {
    "hidden": true
   },
   "source": [
    "As well as looking at the overall metrics, it's also a good idea to look at examples of each of:\n",
    "1. A few correct labels at random\n",
    "2. A few incorrect labels at random\n",
    "3. The most correct labels of each class (ie those with highest probability that are correct)\n",
    "4. The most incorrect labels of each class (ie those with highest probability that are incorrect)\n",
    "5. The most uncertain labels (ie those with probability closest to 0.5)."
   ]
  },
  {
   "cell_type": "code",
   "execution_count": null,
   "metadata": {
    "hidden": true
   },
   "outputs": [],
   "source": [
    "# This is the label for a val data\n",
    "data.val_y"
   ]
  },
  {
   "cell_type": "code",
   "execution_count": null,
   "metadata": {
    "hidden": true
   },
   "outputs": [],
   "source": [
    "# from here we know that 'cats' is label 0 and 'dogs' is label 1.\n",
    "data.classes"
   ]
  },
  {
   "cell_type": "code",
   "execution_count": null,
   "metadata": {
    "hidden": true
   },
   "outputs": [],
   "source": [
    "# this gives prediction for validation set. Predictions are in log scale\n",
    "log_preds = learn.predict()\n",
    "log_preds.shape"
   ]
  },
  {
   "cell_type": "code",
   "execution_count": null,
   "metadata": {
    "hidden": true
   },
   "outputs": [],
   "source": [
    "log_preds[:10]"
   ]
  },
  {
   "cell_type": "code",
   "execution_count": null,
   "metadata": {
    "hidden": true
   },
   "outputs": [],
   "source": [
    "preds = np.argmax(log_preds, axis=1)  # from log probabilities to 0 or 1\n",
    "probs = np.exp(log_preds[:,1])        # pr(dog)"
   ]
  },
  {
   "cell_type": "code",
   "execution_count": null,
   "metadata": {
    "hidden": true
   },
   "outputs": [],
   "source": [
    "def rand_by_mask(mask): return np.random.choice(np.where(mask)[0], 4, replace=False)\n",
    "def rand_by_correct(is_correct): return rand_by_mask((preds == data.val_y)==is_correct)"
   ]
  },
  {
   "cell_type": "code",
   "execution_count": null,
   "metadata": {
    "hidden": true
   },
   "outputs": [],
   "source": [
    "def plot_val_with_title(idxs, title):\n",
    "    imgs = np.stack([data.val_ds[x][0] for x in idxs])\n",
    "    title_probs = [probs[x] for x in idxs]\n",
    "    print(title)\n",
    "    return plots(data.val_ds.denorm(imgs), rows=1, titles=title_probs)"
   ]
  },
  {
   "cell_type": "code",
   "execution_count": null,
   "metadata": {
    "hidden": true
   },
   "outputs": [],
   "source": [
    "def plots(ims, figsize=(12,6), rows=1, titles=None):\n",
    "    f = plt.figure(figsize=figsize)\n",
    "    for i in range(len(ims)):\n",
    "        sp = f.add_subplot(rows, len(ims)//rows, i+1)\n",
    "        sp.axis('Off')\n",
    "        if titles is not None: sp.set_title(titles[i], fontsize=16)\n",
    "        plt.imshow(ims[i])"
   ]
  },
  {
   "cell_type": "code",
   "execution_count": null,
   "metadata": {
    "hidden": true
   },
   "outputs": [],
   "source": [
    "def load_img_id(ds, idx): return np.array(PIL.Image.open(PATH+ds.fnames[idx]))\n",
    "\n",
    "def plot_val_with_title(idxs, title):\n",
    "    imgs = [load_img_id(data.val_ds,x) for x in idxs]\n",
    "    title_probs = [probs[x] for x in idxs]\n",
    "    print(title)\n",
    "    return plots(imgs, rows=1, titles=title_probs, figsize=(16,8))"
   ]
  },
  {
   "cell_type": "code",
   "execution_count": null,
   "metadata": {
    "hidden": true
   },
   "outputs": [],
   "source": [
    "# 1. A few correct labels at random\n",
    "plot_val_with_title(rand_by_correct(True), \"Correctly classified\")"
   ]
  },
  {
   "cell_type": "code",
   "execution_count": null,
   "metadata": {
    "hidden": true
   },
   "outputs": [],
   "source": [
    "# 2. A few incorrect labels at random\n",
    "plot_val_with_title(rand_by_correct(False), \"Incorrectly classified\")"
   ]
  },
  {
   "cell_type": "code",
   "execution_count": null,
   "metadata": {
    "hidden": true
   },
   "outputs": [],
   "source": [
    "def most_by_mask(mask, mult):\n",
    "    idxs = np.where(mask)[0]\n",
    "    return idxs[np.argsort(mult * probs[idxs])[:4]]\n",
    "\n",
    "def most_by_correct(y, is_correct): \n",
    "    mult = -1 if (y==1)==is_correct else 1\n",
    "    return most_by_mask(((preds == data.val_y)==is_correct) & (data.val_y == y), mult)"
   ]
  },
  {
   "cell_type": "code",
   "execution_count": null,
   "metadata": {
    "hidden": true
   },
   "outputs": [],
   "source": [
    "plot_val_with_title(most_by_correct(0, True), \"Most correct cats\")"
   ]
  },
  {
   "cell_type": "code",
   "execution_count": null,
   "metadata": {
    "hidden": true
   },
   "outputs": [],
   "source": [
    "plot_val_with_title(most_by_correct(1, True), \"Most correct dogs\")"
   ]
  },
  {
   "cell_type": "code",
   "execution_count": null,
   "metadata": {
    "hidden": true
   },
   "outputs": [],
   "source": [
    "plot_val_with_title(most_by_correct(0, False), \"Most incorrect cats\")"
   ]
  },
  {
   "cell_type": "code",
   "execution_count": null,
   "metadata": {
    "hidden": true
   },
   "outputs": [],
   "source": [
    "plot_val_with_title(most_by_correct(1, False), \"Most incorrect dogs\")"
   ]
  },
  {
   "cell_type": "code",
   "execution_count": null,
   "metadata": {
    "hidden": true
   },
   "outputs": [],
   "source": [
    "most_uncertain = np.argsort(np.abs(probs -0.5))[:4]\n",
    "plot_val_with_title(most_uncertain, \"Most uncertain predictions\")"
   ]
  },
  {
   "cell_type": "markdown",
   "metadata": {
    "heading_collapsed": true
   },
   "source": [
    "## Choosing a learning rate"
   ]
  },
  {
   "cell_type": "markdown",
   "metadata": {
    "hidden": true
   },
   "source": [
    "The *learning rate* determines how quickly or how slowly you want to update the *weights* (or *parameters*). Learning rate is one of the most difficult parameters to set, because it significantly affect model performance.\n",
    "\n",
    "The method `learn.lr_find()` helps you find an optimal learning rate. It uses the technique developed in the 2015 paper [Cyclical Learning Rates for Training Neural Networks](http://arxiv.org/abs/1506.01186), where we simply keep increasing the learning rate from a very small value, until the loss stops decreasing. We can plot the learning rate across batches to see what this looks like.\n",
    "\n",
    "We first create a new learner, since we want to know how to set the learning rate for a new (untrained) model."
   ]
  },
  {
   "cell_type": "code",
   "execution_count": null,
   "metadata": {
    "hidden": true
   },
   "outputs": [],
   "source": [
    "learn = ConvLearner.pretrained(arch, data, precompute=True)"
   ]
  },
  {
   "cell_type": "code",
   "execution_count": null,
   "metadata": {
    "hidden": true,
    "scrolled": true
   },
   "outputs": [],
   "source": [
    "lrf=learn.lr_find()"
   ]
  },
  {
   "cell_type": "markdown",
   "metadata": {
    "hidden": true
   },
   "source": [
    "Our `learn` object contains an attribute `sched` that contains our learning rate scheduler, and has some convenient plotting functionality including this one:"
   ]
  },
  {
   "cell_type": "code",
   "execution_count": null,
   "metadata": {
    "hidden": true
   },
   "outputs": [],
   "source": [
    "learn.sched.plot_lr()"
   ]
  },
  {
   "cell_type": "markdown",
   "metadata": {
    "hidden": true
   },
   "source": [
    "Note that in the previous plot *iteration* is one iteration (or *minibatch*) of SGD. In one epoch there are \n",
    "(num_train_samples/num_iterations) of SGD.\n",
    "\n",
    "We can see the plot of loss versus learning rate to see where our loss stops decreasing:"
   ]
  },
  {
   "cell_type": "code",
   "execution_count": null,
   "metadata": {
    "hidden": true
   },
   "outputs": [],
   "source": [
    "learn.sched.plot()"
   ]
  },
  {
   "cell_type": "markdown",
   "metadata": {
    "hidden": true
   },
   "source": [
    "The loss is still clearly improving at lr=1e-2 (0.01), so that's what we use. Note that the optimal learning rate can change as we training the model, so you may want to re-run this function from time to time."
   ]
  },
  {
   "cell_type": "markdown",
   "metadata": {},
   "source": [
    "## Improving our model"
   ]
  },
  {
   "cell_type": "markdown",
   "metadata": {
    "heading_collapsed": true
   },
   "source": [
    "### Data augmentation"
   ]
  },
  {
   "cell_type": "markdown",
   "metadata": {
    "hidden": true
   },
   "source": [
    "If you try training for more epochs, you'll notice that we start to *overfit*, which means that our model is learning to recognize the specific images in the training set, rather than generalizing such that we also get good results on the validation set. One way to fix this is to effectively create more data, through *data augmentation*. This refers to randomly changing the images in ways that shouldn't impact their interpretation, such as horizontal flipping, zooming, and rotating.\n",
    "\n",
    "We can do this by passing `aug_tfms` (*augmentation transforms*) to `tfms_from_model`, with a list of functions to apply that randomly change the image however we wish. For photos that are largely taken from the side (e.g. most photos of dogs and cats, as opposed to photos taken from the top down, such as satellite imagery) we can use the pre-defined list of functions `transforms_side_on`. We can also specify random zooming of images up to specified scale by adding the `max_zoom` parameter."
   ]
  },
  {
   "cell_type": "code",
   "execution_count": null,
   "metadata": {
    "hidden": true
   },
   "outputs": [],
   "source": [
    "tfms = tfms_from_model(resnet34, sz, aug_tfms=transforms_side_on, max_zoom=1.1)"
   ]
  },
  {
   "cell_type": "code",
   "execution_count": null,
   "metadata": {
    "hidden": true
   },
   "outputs": [],
   "source": [
    "def get_augs():\n",
    "    data = ImageClassifierData.from_paths(PATH, bs=2, tfms=tfms, num_workers=1)\n",
    "    x,_ = next(iter(data.aug_dl))\n",
    "    return data.trn_ds.denorm(x)[1]"
   ]
  },
  {
   "cell_type": "code",
   "execution_count": null,
   "metadata": {
    "hidden": true
   },
   "outputs": [],
   "source": [
    "ims = np.stack([get_augs() for i in range(6)])"
   ]
  },
  {
   "cell_type": "code",
   "execution_count": null,
   "metadata": {
    "hidden": true
   },
   "outputs": [],
   "source": [
    "plots(ims, rows=2)"
   ]
  },
  {
   "cell_type": "markdown",
   "metadata": {
    "hidden": true
   },
   "source": [
    "Let's create a new `data` object that includes this augmentation in the transforms."
   ]
  },
  {
   "cell_type": "code",
   "execution_count": null,
   "metadata": {
    "hidden": true
   },
   "outputs": [],
   "source": [
    "data = ImageClassifierData.from_paths(PATH, tfms=tfms)\n",
    "learn = ConvLearner.pretrained(arch, data, precompute=True)"
   ]
  },
  {
   "cell_type": "code",
   "execution_count": null,
   "metadata": {
    "hidden": true,
    "scrolled": false
   },
   "outputs": [],
   "source": [
    "learn.fit(1e-2, 1)"
   ]
  },
  {
   "cell_type": "code",
   "execution_count": null,
   "metadata": {
    "hidden": true
   },
   "outputs": [],
   "source": [
    "learn.precompute=False"
   ]
  },
  {
   "cell_type": "markdown",
   "metadata": {
    "hidden": true
   },
   "source": [
    "By default when we create a learner, it sets all but the last layer to *frozen*. That means that it's still only updating the weights in the last layer when we call `fit`."
   ]
  },
  {
   "cell_type": "code",
   "execution_count": null,
   "metadata": {
    "hidden": true,
    "scrolled": false
   },
   "outputs": [],
   "source": [
    "learn.fit(1e-2, 3, cycle_len=1)"
   ]
  },
  {
   "cell_type": "markdown",
   "metadata": {
    "hidden": true
   },
   "source": [
    "What is that `cycle_len` parameter? What we've done here is used a technique called *stochastic gradient descent with restarts (SGDR)*, a variant of *learning rate annealing*, which gradually decreases the learning rate as training progresses. This is helpful because as we get closer to the optimal weights, we want to take smaller steps.\n",
    "\n",
    "However, we may find ourselves in a part of the weight space that isn't very resilient - that is, small changes to the weights may result in big changes to the loss. We want to encourage our model to find parts of the weight space that are both accurate and stable. Therefore, from time to time we increase the learning rate (this is the 'restarts' in 'SGDR'), which will force the model to jump to a different part of the weight space if the current area is \"spikey\". Here's a picture of how that might look if we reset the learning rates 3 times (in this paper they call it a \"cyclic LR schedule\"):\n",
    "\n",
    "<img src=\"images/sgdr.png\" width=\"80%\">\n",
    "(From the paper [Snapshot Ensembles](https://arxiv.org/abs/1704.00109)).\n",
    "\n",
    "The number of epochs between resetting the learning rate is set by `cycle_len`, and the number of times this happens is refered to as the *number of cycles*, and is what we're actually passing as the 2nd parameter to `fit()`. So here's what our actual learning rates looked like:"
   ]
  },
  {
   "cell_type": "code",
   "execution_count": null,
   "metadata": {
    "hidden": true
   },
   "outputs": [],
   "source": [
    "learn.sched.plot_lr()"
   ]
  },
  {
   "cell_type": "markdown",
   "metadata": {
    "hidden": true
   },
   "source": [
    "Our validation loss isn't improving much, so there's probably no point further training the last layer on its own."
   ]
  },
  {
   "cell_type": "markdown",
   "metadata": {
    "hidden": true
   },
   "source": [
    "Since we've got a pretty good model at this point, we might want to save it so we can load it again later without training it from scratch."
   ]
  },
  {
   "cell_type": "code",
   "execution_count": null,
   "metadata": {
    "hidden": true
   },
   "outputs": [],
   "source": [
    "learn.save('224_lastlayer')"
   ]
  },
  {
   "cell_type": "code",
   "execution_count": null,
   "metadata": {
    "hidden": true
   },
   "outputs": [],
   "source": [
    "learn.load('224_lastlayer')"
   ]
  },
  {
   "cell_type": "markdown",
   "metadata": {
    "heading_collapsed": true
   },
   "source": [
    "### Fine-tuning and differential learning rate annealing"
   ]
  },
  {
   "cell_type": "markdown",
   "metadata": {
    "hidden": true
   },
   "source": [
    "Now that we have a good final layer trained, we can try fine-tuning the other layers. To tell the learner that we want to unfreeze the remaining layers, just call (surprise surprise!) `unfreeze()`."
   ]
  },
  {
   "cell_type": "code",
   "execution_count": null,
   "metadata": {
    "hidden": true
   },
   "outputs": [],
   "source": [
    "learn.unfreeze()"
   ]
  },
  {
   "cell_type": "markdown",
   "metadata": {
    "hidden": true
   },
   "source": [
    "Note that the other layers have *already* been trained to recognize imagenet photos (whereas our final layers where randomly initialized), so we want to be careful of not destroying the carefully tuned weights that are already there.\n",
    "\n",
    "Generally speaking, the earlier layers (as we've seen) have more general-purpose features. Therefore we would expect them to need less fine-tuning for new datasets. For this reason we will use different learning rates for different layers: the first few layers will be at 1e-4, the middle layers at 1e-3, and our FC layers we'll leave at 1e-2 as before. We refer to this as *differential learning rates*, although there's no standard name for this techique in the literature that we're aware of."
   ]
  },
  {
   "cell_type": "code",
   "execution_count": null,
   "metadata": {
    "hidden": true
   },
   "outputs": [],
   "source": [
    "lr=np.array([1e-4,1e-3,1e-2])"
   ]
  },
  {
   "cell_type": "code",
   "execution_count": null,
   "metadata": {
    "hidden": true,
    "scrolled": false
   },
   "outputs": [],
   "source": [
    "learn.fit(lr, 3, cycle_len=1, cycle_mult=2)"
   ]
  },
  {
   "cell_type": "markdown",
   "metadata": {
    "hidden": true
   },
   "source": [
    "Another trick we've used here is adding the `cycle_mult` parameter. Take a look at the following chart, and see if you can figure out what the parameter is doing:"
   ]
  },
  {
   "cell_type": "code",
   "execution_count": null,
   "metadata": {
    "hidden": true
   },
   "outputs": [],
   "source": [
    "learn.sched.plot_lr()"
   ]
  },
  {
   "cell_type": "markdown",
   "metadata": {
    "hidden": true
   },
   "source": [
    "Note that's what being plotted above is the learning rate of the *final layers*. The learning rates of the earlier layers are fixed at the same multiples of the final layer rates as we initially requested (i.e. the first layers have 100x smaller, and middle layers 10x smaller learning rates, since we set `lr=np.array([1e-4,1e-3,1e-2])`."
   ]
  },
  {
   "cell_type": "code",
   "execution_count": null,
   "metadata": {
    "hidden": true
   },
   "outputs": [],
   "source": [
    "learn.save('224_all')"
   ]
  },
  {
   "cell_type": "code",
   "execution_count": null,
   "metadata": {
    "hidden": true
   },
   "outputs": [],
   "source": [
    "learn.load('224_all')"
   ]
  },
  {
   "cell_type": "markdown",
   "metadata": {
    "hidden": true
   },
   "source": [
    "There is something else we can do with data augmentation: use it at *inference* time (also known as *test* time). Not surprisingly, this is known as *test time augmentation*, or just *TTA*.\n",
    "\n",
    "TTA simply makes predictions not just on the images in your validation set, but also makes predictions on a number of randomly augmented versions of them too (by default, it uses the original image along with 4 randomly augmented versions). It then takes the average prediction from these images, and uses that. To use TTA on the validation set, we can use the learner's `TTA()` method."
   ]
  },
  {
   "cell_type": "code",
   "execution_count": null,
   "metadata": {
    "hidden": true
   },
   "outputs": [],
   "source": [
    "log_preds,y = learn.TTA()\n",
    "probs = np.mean(np.exp(log_preds),0)"
   ]
  },
  {
   "cell_type": "code",
   "execution_count": null,
   "metadata": {
    "hidden": true
   },
   "outputs": [],
   "source": [
    "accuracy_np(probs, y)"
   ]
  },
  {
   "cell_type": "markdown",
   "metadata": {
    "hidden": true
   },
   "source": [
    "I generally see about a 10-20% reduction in error on this dataset when using TTA at this point, which is an amazing result for such a quick and easy technique!"
   ]
  },
  {
   "cell_type": "markdown",
   "metadata": {},
   "source": [
    "## Analyzing results"
   ]
  },
  {
   "cell_type": "markdown",
   "metadata": {
    "heading_collapsed": true
   },
   "source": [
    "### Confusion matrix "
   ]
  },
  {
   "cell_type": "code",
   "execution_count": null,
   "metadata": {
    "hidden": true
   },
   "outputs": [],
   "source": [
    "preds = np.argmax(probs, axis=1)\n",
    "probs = probs[:,1]"
   ]
  },
  {
   "cell_type": "markdown",
   "metadata": {
    "hidden": true
   },
   "source": [
    "A common way to analyze the result of a classification model is to use a [confusion matrix](http://www.dataschool.io/simple-guide-to-confusion-matrix-terminology/). Scikit-learn has a convenient function we can use for this purpose:"
   ]
  },
  {
   "cell_type": "code",
   "execution_count": null,
   "metadata": {
    "hidden": true
   },
   "outputs": [],
   "source": [
    "from sklearn.metrics import confusion_matrix\n",
    "cm = confusion_matrix(y, preds)"
   ]
  },
  {
   "cell_type": "markdown",
   "metadata": {
    "hidden": true
   },
   "source": [
    "We can just print out the confusion matrix, or we can show a graphical view (which is mainly useful for dependents with a larger number of categories)."
   ]
  },
  {
   "cell_type": "code",
   "execution_count": null,
   "metadata": {
    "hidden": true
   },
   "outputs": [],
   "source": [
    "plot_confusion_matrix(cm, data.classes)"
   ]
  },
  {
   "cell_type": "markdown",
   "metadata": {
    "heading_collapsed": true
   },
   "source": [
    "### Looking at pictures again"
   ]
  },
  {
   "cell_type": "code",
   "execution_count": null,
   "metadata": {
    "hidden": true
   },
   "outputs": [],
   "source": [
    "plot_val_with_title(most_by_correct(0, False), \"Most incorrect cats\")"
   ]
  },
  {
   "cell_type": "code",
   "execution_count": null,
   "metadata": {
    "hidden": true
   },
   "outputs": [],
   "source": [
    "plot_val_with_title(most_by_correct(1, False), \"Most incorrect dogs\")"
   ]
  },
  {
   "cell_type": "markdown",
   "metadata": {
    "heading_collapsed": true
   },
   "source": [
    "## Review: easy steps to train a world-class image classifier"
   ]
  },
  {
   "cell_type": "markdown",
   "metadata": {
    "hidden": true
   },
   "source": [
    "1. Enable data augmentation, and precompute=True\n",
    "1. Use `lr_find()` to find highest learning rate where loss is still clearly improving\n",
    "1. Train last layer from precomputed activations for 1-2 epochs\n",
    "1. Train last layer with data augmentation (i.e. precompute=False) for 2-3 epochs with cycle_len=1\n",
    "1. Unfreeze all layers\n",
    "1. Set earlier layers to 3x-10x lower learning rate than next higher layer\n",
    "1. Use `lr_find()` again\n",
    "1. Train full network with cycle_mult=2 until over-fitting"
   ]
  },
  {
   "cell_type": "markdown",
   "metadata": {
    "heading_collapsed": true
   },
   "source": [
    "## Understanding the code for our first model"
   ]
  },
  {
   "cell_type": "markdown",
   "metadata": {
    "hidden": true
   },
   "source": [
    "Let's look at the Dogs v Cats code line by line.\n",
    "\n",
    "**tfms** stands for *transformations*. `tfms_from_model` takes care of resizing, image cropping, initial normalization (creating data with (mean,stdev) of (0,1)), and more."
   ]
  },
  {
   "cell_type": "code",
   "execution_count": null,
   "metadata": {
    "hidden": true,
    "scrolled": true
   },
   "outputs": [],
   "source": [
    "tfms = tfms_from_model(resnet34, sz)"
   ]
  },
  {
   "cell_type": "markdown",
   "metadata": {
    "hidden": true
   },
   "source": [
    "We need a <b>path</b> that points to the dataset. In this path we will also store temporary data and final results. `ImageClassifierData.from_paths` reads data from a provided path and creates a dataset ready for training."
   ]
  },
  {
   "cell_type": "code",
   "execution_count": null,
   "metadata": {
    "hidden": true
   },
   "outputs": [],
   "source": [
    "data = ImageClassifierData.from_paths(PATH, tfms=tfms)"
   ]
  },
  {
   "cell_type": "markdown",
   "metadata": {
    "hidden": true
   },
   "source": [
    "`ConvLearner.pretrained` builds *learner* that contains a pre-trained model. The last layer of the model needs to be replaced with the layer of the right dimensions. The pretained model was trained for 1000 classes therfore the final layer predicts a vector of 1000 probabilities. The model for cats and dogs needs to output a two dimensional vector. The diagram below shows in an example how this was done in one of the earliest successful CNNs. The layer \"FC8\" here would get replaced with a new layer with 2 outputs.\n",
    "\n",
    "<img src=\"images/pretrained.png\" width=\"500\">\n",
    "[original image](https://image.slidesharecdn.com/practicaldeeplearning-160329181459/95/practical-deep-learning-16-638.jpg)"
   ]
  },
  {
   "cell_type": "code",
   "execution_count": null,
   "metadata": {
    "hidden": true
   },
   "outputs": [],
   "source": [
    "learn = ConvLearner.pretrained(resnet34, data, precompute=True)"
   ]
  },
  {
   "cell_type": "markdown",
   "metadata": {
    "hidden": true
   },
   "source": [
    "*Parameters*  are learned by fitting a model to the data. *Hyparameters* are another kind of parameter, that cannot be directly learned from the regular training process. These parameters express “higher-level” properties of the model such as its complexity or how fast it should learn. Two examples of hyperparameters are the *learning rate* and the *number of epochs*.\n",
    "\n",
    "During iterative training of a neural network, a *batch* or *mini-batch* is a subset of training samples used in one iteration of Stochastic Gradient Descent (SGD). An *epoch* is a single pass through the entire training set which consists of multiple iterations of SGD.\n",
    "\n",
    "We can now *fit* the model; that is, use *gradient descent* to find the best parameters for the fully connected layer we added, that can separate cat pictures from dog pictures. We need to pass two hyperameters: the *learning rate* (generally 1e-2 or 1e-3 is a good starting point, we'll look more at this next) and the *number of epochs* (you can pass in a higher number and just stop training when you see it's no longer improving, then re-run it with the number of epochs you found works well.)"
   ]
  },
  {
   "cell_type": "code",
   "execution_count": null,
   "metadata": {
    "hidden": true
   },
   "outputs": [],
   "source": [
    "learn.fit(1e-2, 1)"
   ]
  },
  {
   "cell_type": "markdown",
   "metadata": {
    "heading_collapsed": true
   },
   "source": [
    "## Analyzing results: loss and accuracy"
   ]
  },
  {
   "cell_type": "markdown",
   "metadata": {
    "hidden": true
   },
   "source": [
    "When we run `learn.fit` we print 3 performance values (see above.) Here 0.03 is the value of the **loss** in the training set, 0.0226 is the value of the loss in the validation set and 0.9927 is the validation accuracy. What is the loss? What is accuracy? Why not to just show accuracy?\n",
    "\n",
    "**Accuracy** is the ratio of correct prediction to the total number of predictions.\n",
    "\n",
    "In machine learning the **loss** function or cost function is representing the price paid for inaccuracy of predictions.\n",
    "\n",
    "The loss associated with one example in binary classification is given by:\n",
    "`-(y * log(p) + (1-y) * log (1-p))`\n",
    "where `y` is the true label of `x` and `p` is the probability predicted by our model that the label is 1."
   ]
  },
  {
   "cell_type": "code",
   "execution_count": null,
   "metadata": {
    "hidden": true
   },
   "outputs": [],
   "source": [
    "def binary_loss(y, p):\n",
    "    return np.mean(-(y * np.log(p) + (1-y)*np.log(1-p)))"
   ]
  },
  {
   "cell_type": "code",
   "execution_count": null,
   "metadata": {
    "hidden": true
   },
   "outputs": [],
   "source": [
    "acts = np.array([1, 0, 0, 1])\n",
    "preds = np.array([0.9, 0.1, 0.2, 0.8])\n",
    "binary_loss(acts, preds)"
   ]
  },
  {
   "cell_type": "markdown",
   "metadata": {
    "hidden": true
   },
   "source": [
    "Note that in our toy example above our accuracy is 100% and our loss is 0.16. Compare that to a loss of 0.03 that we are getting while predicting cats and dogs. Exercise: play with `preds` to get a lower loss for this example. \n",
    "\n",
    "**Example:** Here is an example on how to compute the loss for one example of binary classification problem. Suppose for an image x with label 1 and your model gives it a prediction of 0.9. For this case the loss should be small because our model is predicting a label $1$ with high probability.\n",
    "\n",
    "`loss = -log(0.9) = 0.10`\n",
    "\n",
    "Now suppose x has label 0 but our model is predicting 0.9. In this case our loss should be much larger.\n",
    "\n",
    "loss = -log(1-0.9) = 2.30\n",
    "\n",
    "- Exercise: look at the other cases and convince yourself that this make sense.\n",
    "- Exercise: how would you rewrite `binary_loss` using `if` instead of `*` and `+`?\n",
    "\n",
    "Why not just maximize accuracy? The binary classification loss is an easier function to optimize."
   ]
  },
  {
   "cell_type": "markdown",
   "metadata": {
    "collapsed": true,
    "hidden": true
   },
   "source": [
    "---"
   ]
  }
 ],
 "metadata": {
  "kernelspec": {
   "display_name": "Python 3",
   "language": "python",
   "name": "python3"
  },
  "language_info": {
   "codemirror_mode": {
    "name": "ipython",
    "version": 3
   },
   "file_extension": ".py",
   "mimetype": "text/x-python",
   "name": "python",
   "nbconvert_exporter": "python",
   "pygments_lexer": "ipython3",
   "version": "3.6.4"
  },
  "toc": {
   "colors": {
    "hover_highlight": "#DAA520",
    "navigate_num": "#000000",
    "navigate_text": "#333333",
    "running_highlight": "#FF0000",
    "selected_highlight": "#FFD700",
    "sidebar_border": "#EEEEEE",
    "wrapper_background": "#FFFFFF"
   },
   "moveMenuLeft": true,
   "nav_menu": {
    "height": "266px",
    "width": "252px"
   },
   "navigate_menu": true,
   "number_sections": true,
   "sideBar": true,
   "threshold": 4,
   "toc_cell": false,
   "toc_section_display": "block",
   "toc_window_display": false,
   "widenNotebook": false
  }
 },
 "nbformat": 4,
 "nbformat_minor": 2
}
