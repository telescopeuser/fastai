{
 "cells": [
  {
   "cell_type": "code",
   "execution_count": 1,
   "metadata": {
    "scrolled": true
   },
   "outputs": [
    {
     "name": "stdout",
     "output_type": "stream",
     "text": [
      "Requirement already up-to-date: fastai in /home/iss-user/anaconda3/envs/iss-env-py3/lib/python3.6/site-packages\n",
      "Requirement already up-to-date: ipykernel in /home/iss-user/anaconda3/envs/iss-env-py3/lib/python3.6/site-packages (from fastai)\n",
      "Requirement already up-to-date: pytz in /home/iss-user/anaconda3/envs/iss-env-py3/lib/python3.6/site-packages (from fastai)\n",
      "Requirement already up-to-date: entrypoints in /home/iss-user/anaconda3/envs/iss-env-py3/lib/python3.6/site-packages (from fastai)\n",
      "Requirement already up-to-date: jupyter-client in /home/iss-user/anaconda3/envs/iss-env-py3/lib/python3.6/site-packages (from fastai)\n",
      "Requirement already up-to-date: Jinja2 in /home/iss-user/anaconda3/envs/iss-env-py3/lib/python3.6/site-packages (from fastai)\n",
      "Requirement already up-to-date: nbformat in /home/iss-user/anaconda3/envs/iss-env-py3/lib/python3.6/site-packages (from fastai)\n",
      "Requirement already up-to-date: MarkupSafe in /home/iss-user/anaconda3/envs/iss-env-py3/lib/python3.6/site-packages (from fastai)\n",
      "Requirement already up-to-date: pandocfilters in /home/iss-user/anaconda3/envs/iss-env-py3/lib/python3.6/site-packages (from fastai)\n",
      "Requirement already up-to-date: pickleshare in /home/iss-user/anaconda3/envs/iss-env-py3/lib/python3.6/site-packages (from fastai)\n",
      "Requirement already up-to-date: jsonschema in /home/iss-user/anaconda3/envs/iss-env-py3/lib/python3.6/site-packages (from fastai)\n",
      "Requirement already up-to-date: kaggle-cli in /home/iss-user/anaconda3/envs/iss-env-py3/lib/python3.6/site-packages (from fastai)\n",
      "Requirement already up-to-date: jedi in /home/iss-user/anaconda3/envs/iss-env-py3/lib/python3.6/site-packages (from fastai)\n",
      "Requirement already up-to-date: cycler in /home/iss-user/anaconda3/envs/iss-env-py3/lib/python3.6/site-packages (from fastai)\n",
      "Requirement already up-to-date: widgetsnbextension in /home/iss-user/anaconda3/envs/iss-env-py3/lib/python3.6/site-packages (from fastai)\n",
      "Requirement already up-to-date: Pillow in /home/iss-user/anaconda3/envs/iss-env-py3/lib/python3.6/site-packages (from fastai)\n",
      "Requirement already up-to-date: pandas-summary in /home/iss-user/anaconda3/envs/iss-env-py3/lib/python3.6/site-packages (from fastai)\n",
      "Requirement already up-to-date: plotnine in /home/iss-user/anaconda3/envs/iss-env-py3/lib/python3.6/site-packages (from fastai)\n",
      "Requirement already up-to-date: tqdm in /home/iss-user/anaconda3/envs/iss-env-py3/lib/python3.6/site-packages (from fastai)\n",
      "Requirement already up-to-date: html5lib in /home/iss-user/anaconda3/envs/iss-env-py3/lib/python3.6/site-packages (from fastai)\n",
      "Requirement already up-to-date: python-dateutil in /home/iss-user/anaconda3/envs/iss-env-py3/lib/python3.6/site-packages (from fastai)\n",
      "Requirement already up-to-date: wcwidth in /home/iss-user/anaconda3/envs/iss-env-py3/lib/python3.6/site-packages (from fastai)\n",
      "Requirement already up-to-date: prompt-toolkit in /home/iss-user/anaconda3/envs/iss-env-py3/lib/python3.6/site-packages (from fastai)\n",
      "Requirement already up-to-date: certifi in /home/iss-user/anaconda3/envs/iss-env-py3/lib/python3.6/site-packages (from fastai)\n",
      "Requirement already up-to-date: pandas in /home/iss-user/anaconda3/envs/iss-env-py3/lib/python3.6/site-packages (from fastai)\n",
      "Requirement already up-to-date: jupyter-contrib-nbextensions in /home/iss-user/anaconda3/envs/iss-env-py3/lib/python3.6/site-packages (from fastai)\n",
      "Requirement already up-to-date: notebook in /home/iss-user/anaconda3/envs/iss-env-py3/lib/python3.6/site-packages (from fastai)\n",
      "Requirement already up-to-date: sklearn-pandas in /home/iss-user/anaconda3/envs/iss-env-py3/lib/python3.6/site-packages (from fastai)\n",
      "Requirement already up-to-date: graphviz in /home/iss-user/anaconda3/envs/iss-env-py3/lib/python3.6/site-packages (from fastai)\n",
      "Requirement already up-to-date: pyparsing in /home/iss-user/anaconda3/envs/iss-env-py3/lib/python3.6/site-packages (from fastai)\n",
      "Requirement already up-to-date: ipywidgets in /home/iss-user/anaconda3/envs/iss-env-py3/lib/python3.6/site-packages (from fastai)\n",
      "Requirement already up-to-date: bleach in /home/iss-user/anaconda3/envs/iss-env-py3/lib/python3.6/site-packages (from fastai)\n",
      "Requirement already up-to-date: feather-format in /home/iss-user/anaconda3/envs/iss-env-py3/lib/python3.6/site-packages (from fastai)\n",
      "Requirement already up-to-date: ipython in /home/iss-user/anaconda3/envs/iss-env-py3/lib/python3.6/site-packages (from fastai)\n",
      "Requirement already up-to-date: traitlets in /home/iss-user/anaconda3/envs/iss-env-py3/lib/python3.6/site-packages (from fastai)\n",
      "Requirement already up-to-date: six in /home/iss-user/anaconda3/envs/iss-env-py3/lib/python3.6/site-packages (from fastai)\n",
      "Requirement already up-to-date: ptyprocess in /home/iss-user/anaconda3/envs/iss-env-py3/lib/python3.6/site-packages (from fastai)\n",
      "Requirement already up-to-date: terminado in /home/iss-user/anaconda3/envs/iss-env-py3/lib/python3.6/site-packages (from fastai)\n",
      "Requirement already up-to-date: awscli in /home/iss-user/anaconda3/envs/iss-env-py3/lib/python3.6/site-packages (from fastai)\n",
      "Requirement already up-to-date: olefile in /home/iss-user/anaconda3/envs/iss-env-py3/lib/python3.6/site-packages (from fastai)\n",
      "Requirement already up-to-date: matplotlib in /home/iss-user/anaconda3/envs/iss-env-py3/lib/python3.6/site-packages (from fastai)\n",
      "Requirement already up-to-date: jupyter in /home/iss-user/anaconda3/envs/iss-env-py3/lib/python3.6/site-packages (from fastai)\n",
      "Requirement already up-to-date: simplegeneric in /home/iss-user/anaconda3/envs/iss-env-py3/lib/python3.6/site-packages (from fastai)\n",
      "Requirement already up-to-date: testpath in /home/iss-user/anaconda3/envs/iss-env-py3/lib/python3.6/site-packages (from fastai)\n",
      "Requirement already up-to-date: nbconvert in /home/iss-user/anaconda3/envs/iss-env-py3/lib/python3.6/site-packages (from fastai)\n",
      "Requirement already up-to-date: PyYAML in /home/iss-user/anaconda3/envs/iss-env-py3/lib/python3.6/site-packages (from fastai)\n",
      "Requirement already up-to-date: decorator in /home/iss-user/anaconda3/envs/iss-env-py3/lib/python3.6/site-packages (from fastai)\n",
      "Requirement already up-to-date: qtconsole in /home/iss-user/anaconda3/envs/iss-env-py3/lib/python3.6/site-packages (from fastai)\n",
      "Requirement already up-to-date: seaborn in /home/iss-user/anaconda3/envs/iss-env-py3/lib/python3.6/site-packages (from fastai)\n",
      "Requirement already up-to-date: pyzmq in /home/iss-user/anaconda3/envs/iss-env-py3/lib/python3.6/site-packages (from fastai)\n",
      "Requirement already up-to-date: tornado in /home/iss-user/anaconda3/envs/iss-env-py3/lib/python3.6/site-packages (from fastai)\n",
      "Requirement already up-to-date: opencv-python in /home/iss-user/anaconda3/envs/iss-env-py3/lib/python3.6/site-packages (from fastai)\n",
      "Requirement already up-to-date: mistune in /home/iss-user/anaconda3/envs/iss-env-py3/lib/python3.6/site-packages (from fastai)\n",
      "Requirement already up-to-date: jupyter-console in /home/iss-user/anaconda3/envs/iss-env-py3/lib/python3.6/site-packages (from fastai)\n",
      "Requirement already up-to-date: jupyter-core in /home/iss-user/anaconda3/envs/iss-env-py3/lib/python3.6/site-packages (from fastai)\n",
      "Requirement already up-to-date: webencodings in /home/iss-user/anaconda3/envs/iss-env-py3/lib/python3.6/site-packages (from fastai)\n",
      "Requirement already up-to-date: scipy in /home/iss-user/anaconda3/envs/iss-env-py3/lib/python3.6/site-packages (from fastai)\n",
      "Requirement already up-to-date: torchtext in /home/iss-user/anaconda3/envs/iss-env-py3/lib/python3.6/site-packages (from fastai)\n",
      "Requirement already up-to-date: pexpect in /home/iss-user/anaconda3/envs/iss-env-py3/lib/python3.6/site-packages (from fastai)\n",
      "Requirement already up-to-date: ipython-genutils in /home/iss-user/anaconda3/envs/iss-env-py3/lib/python3.6/site-packages (from fastai)\n",
      "Requirement already up-to-date: isoweek in /home/iss-user/anaconda3/envs/iss-env-py3/lib/python3.6/site-packages (from fastai)\n",
      "Requirement already up-to-date: numpy in /home/iss-user/anaconda3/envs/iss-env-py3/lib/python3.6/site-packages (from fastai)\n",
      "Requirement already up-to-date: bcolz in /home/iss-user/anaconda3/envs/iss-env-py3/lib/python3.6/site-packages (from fastai)\n",
      "Requirement already up-to-date: Pygments in /home/iss-user/anaconda3/envs/iss-env-py3/lib/python3.6/site-packages (from fastai)\n"
     ]
    },
    {
     "name": "stdout",
     "output_type": "stream",
     "text": [
      "Requirement already up-to-date: cliff<2.9,>=2.8.0 in /home/iss-user/anaconda3/envs/iss-env-py3/lib/python3.6/site-packages (from kaggle-cli->fastai)\n",
      "Requirement already up-to-date: cssselect<1.1,>=1.0.1 in /home/iss-user/anaconda3/envs/iss-env-py3/lib/python3.6/site-packages (from kaggle-cli->fastai)\n",
      "Requirement already up-to-date: beautifulsoup4<4.7,>=4.6.0 in /home/iss-user/anaconda3/envs/iss-env-py3/lib/python3.6/site-packages (from kaggle-cli->fastai)\n",
      "Requirement already up-to-date: MechanicalSoup<0.9,>=0.7.0 in /home/iss-user/anaconda3/envs/iss-env-py3/lib/python3.6/site-packages (from kaggle-cli->fastai)\n",
      "Requirement already up-to-date: configparser in /home/iss-user/anaconda3/envs/iss-env-py3/lib/python3.6/site-packages (from kaggle-cli->fastai)\n",
      "Requirement already up-to-date: progressbar2<3.35,>=3.34.3 in /home/iss-user/anaconda3/envs/iss-env-py3/lib/python3.6/site-packages (from kaggle-cli->fastai)\n",
      "Requirement already up-to-date: lxml<4.1,>=4.0.0 in /home/iss-user/anaconda3/envs/iss-env-py3/lib/python3.6/site-packages (from kaggle-cli->fastai)\n",
      "Requirement already up-to-date: parso==0.1.1 in /home/iss-user/anaconda3/envs/iss-env-py3/lib/python3.6/site-packages (from jedi->fastai)\n",
      "Requirement already up-to-date: statsmodels>=0.8.0 in /home/iss-user/anaconda3/envs/iss-env-py3/lib/python3.6/site-packages (from plotnine->fastai)\n",
      "Requirement already up-to-date: patsy>=0.4.1 in /home/iss-user/anaconda3/envs/iss-env-py3/lib/python3.6/site-packages (from plotnine->fastai)\n",
      "Requirement already up-to-date: mizani>=0.4.1 in /home/iss-user/anaconda3/envs/iss-env-py3/lib/python3.6/site-packages (from plotnine->fastai)\n",
      "Requirement already up-to-date: jupyter-highlight-selected-word>=0.0.10 in /home/iss-user/anaconda3/envs/iss-env-py3/lib/python3.6/site-packages (from jupyter-contrib-nbextensions->fastai)\n",
      "Requirement already up-to-date: jupyter-contrib-core>=0.3.3 in /home/iss-user/anaconda3/envs/iss-env-py3/lib/python3.6/site-packages (from jupyter-contrib-nbextensions->fastai)\n",
      "Requirement already up-to-date: jupyter-nbextensions-configurator>=0.4.0 in /home/iss-user/anaconda3/envs/iss-env-py3/lib/python3.6/site-packages (from jupyter-contrib-nbextensions->fastai)\n",
      "Requirement already up-to-date: jupyter-latex-envs>=1.3.8 in /home/iss-user/anaconda3/envs/iss-env-py3/lib/python3.6/site-packages (from jupyter-contrib-nbextensions->fastai)\n",
      "Requirement already up-to-date: Send2Trash in /home/iss-user/anaconda3/envs/iss-env-py3/lib/python3.6/site-packages (from notebook->fastai)\n",
      "Requirement already up-to-date: scikit-learn>=0.15.0 in /home/iss-user/anaconda3/envs/iss-env-py3/lib/python3.6/site-packages (from sklearn-pandas->fastai)\n",
      "Requirement already up-to-date: pyarrow>=0.4.0 in /home/iss-user/anaconda3/envs/iss-env-py3/lib/python3.6/site-packages (from feather-format->fastai)\n",
      "Requirement already up-to-date: setuptools>=18.5 in /home/iss-user/anaconda3/envs/iss-env-py3/lib/python3.6/site-packages (from ipython->fastai)\n",
      "Requirement already up-to-date: s3transfer<0.2.0,>=0.1.12 in /home/iss-user/anaconda3/envs/iss-env-py3/lib/python3.6/site-packages (from awscli->fastai)\n",
      "Requirement already up-to-date: botocore==1.9.8 in /home/iss-user/anaconda3/envs/iss-env-py3/lib/python3.6/site-packages (from awscli->fastai)\n",
      "Requirement already up-to-date: rsa<=3.5.0,>=3.1.2 in /home/iss-user/anaconda3/envs/iss-env-py3/lib/python3.6/site-packages (from awscli->fastai)\n",
      "Requirement already up-to-date: colorama<=0.3.7,>=0.2.5 in /home/iss-user/anaconda3/envs/iss-env-py3/lib/python3.6/site-packages (from awscli->fastai)\n",
      "Requirement already up-to-date: docutils>=0.10 in /home/iss-user/anaconda3/envs/iss-env-py3/lib/python3.6/site-packages (from awscli->fastai)\n",
      "Requirement already up-to-date: kiwisolver>=1.0.1 in /home/iss-user/anaconda3/envs/iss-env-py3/lib/python3.6/site-packages (from matplotlib->fastai)\n",
      "Requirement already up-to-date: requests in /home/iss-user/anaconda3/envs/iss-env-py3/lib/python3.6/site-packages (from torchtext->fastai)\n",
      "Requirement already up-to-date: pbr!=2.1.0,>=2.0.0 in /home/iss-user/anaconda3/envs/iss-env-py3/lib/python3.6/site-packages (from cliff<2.9,>=2.8.0->kaggle-cli->fastai)\n",
      "Requirement already up-to-date: cmd2>=0.6.7 in /home/iss-user/anaconda3/envs/iss-env-py3/lib/python3.6/site-packages (from cliff<2.9,>=2.8.0->kaggle-cli->fastai)\n",
      "Requirement already up-to-date: stevedore>=1.20.0 in /home/iss-user/anaconda3/envs/iss-env-py3/lib/python3.6/site-packages (from cliff<2.9,>=2.8.0->kaggle-cli->fastai)\n",
      "Requirement already up-to-date: PrettyTable<0.8,>=0.7.1 in /home/iss-user/anaconda3/envs/iss-env-py3/lib/python3.6/site-packages (from cliff<2.9,>=2.8.0->kaggle-cli->fastai)\n",
      "Requirement already up-to-date: python-utils>=2.1.0 in /home/iss-user/anaconda3/envs/iss-env-py3/lib/python3.6/site-packages (from progressbar2<3.35,>=3.34.3->kaggle-cli->fastai)\n",
      "Requirement already up-to-date: palettable in /home/iss-user/anaconda3/envs/iss-env-py3/lib/python3.6/site-packages (from mizani>=0.4.1->plotnine->fastai)\n",
      "Requirement already up-to-date: jmespath<1.0.0,>=0.7.1 in /home/iss-user/anaconda3/envs/iss-env-py3/lib/python3.6/site-packages (from botocore==1.9.8->awscli->fastai)\n",
      "Requirement already up-to-date: pyasn1>=0.1.3 in /home/iss-user/anaconda3/envs/iss-env-py3/lib/python3.6/site-packages (from rsa<=3.5.0,>=3.1.2->awscli->fastai)\n",
      "Requirement already up-to-date: chardet<3.1.0,>=3.0.2 in /home/iss-user/anaconda3/envs/iss-env-py3/lib/python3.6/site-packages (from requests->torchtext->fastai)\n",
      "Requirement already up-to-date: idna<2.7,>=2.5 in /home/iss-user/anaconda3/envs/iss-env-py3/lib/python3.6/site-packages (from requests->torchtext->fastai)\n",
      "Requirement already up-to-date: urllib3<1.23,>=1.21.1 in /home/iss-user/anaconda3/envs/iss-env-py3/lib/python3.6/site-packages (from requests->torchtext->fastai)\n",
      "Requirement already up-to-date: pyperclip in /home/iss-user/anaconda3/envs/iss-env-py3/lib/python3.6/site-packages (from cmd2>=0.6.7->cliff<2.9,>=2.8.0->kaggle-cli->fastai)\n"
     ]
    }
   ],
   "source": [
    "!pip install fastai -U"
   ]
  },
  {
   "cell_type": "markdown",
   "metadata": {},
   "source": [
    "## Image classification with Convolutional Neural Networks"
   ]
  },
  {
   "cell_type": "code",
   "execution_count": 88,
   "metadata": {},
   "outputs": [],
   "source": [
    "# Put these at the top of every notebook, to get automatic reloading and inline plotting\n",
    "%reload_ext autoreload\n",
    "%autoreload 2\n",
    "%matplotlib inline"
   ]
  },
  {
   "cell_type": "code",
   "execution_count": 103,
   "metadata": {},
   "outputs": [],
   "source": [
    "# This file contains all the main external libs we'll use\n",
    "from fastai.imports import *\n",
    "\n",
    "from fastai.transforms import *\n",
    "from fastai.conv_learner import *\n",
    "from fastai.model import *\n",
    "from fastai.dataset import *\n",
    "from fastai.sgdr import *\n",
    "from fastai.plots import *"
   ]
  },
  {
   "cell_type": "code",
   "execution_count": 104,
   "metadata": {},
   "outputs": [],
   "source": [
    "# PATH = \"data/dogscats/\"\n",
    "PATH = \"lta/\"\n",
    "sz=224\n",
    "arch=vgg16\n",
    "bs=16"
   ]
  },
  {
   "cell_type": "code",
   "execution_count": 105,
   "metadata": {},
   "outputs": [],
   "source": [
    "# Uncomment the below if you need to reset your precomputed activations\n",
    "# !rm -rf {PATH}tmp"
   ]
  },
  {
   "cell_type": "code",
   "execution_count": 106,
   "metadata": {},
   "outputs": [],
   "source": [
    "data = ImageClassifierData.from_paths(PATH, tfms=tfms_from_model(arch, sz))"
   ]
  },
  {
   "cell_type": "code",
   "execution_count": 107,
   "metadata": {},
   "outputs": [],
   "source": [
    "learn = ConvLearner.pretrained(arch, data, precompute=True)"
   ]
  },
  {
   "cell_type": "code",
   "execution_count": 108,
   "metadata": {},
   "outputs": [],
   "source": [
    "# learn.lr_find()\n",
    "# learn.sched.plot()"
   ]
  },
  {
   "cell_type": "code",
   "execution_count": 109,
   "metadata": {},
   "outputs": [
    {
     "data": {
      "application/vnd.jupyter.widget-view+json": {
       "model_id": "6697dbe4e7044b6d9722a500a67e091c",
       "version_major": 2,
       "version_minor": 0
      },
      "text/html": [
       "<p>Failed to display Jupyter Widget of type <code>HBox</code>.</p>\n",
       "<p>\n",
       "  If you're reading this message in the Jupyter Notebook or JupyterLab Notebook, it may mean\n",
       "  that the widgets JavaScript is still loading. If this message persists, it\n",
       "  likely means that the widgets JavaScript library is either not installed or\n",
       "  not enabled. See the <a href=\"https://ipywidgets.readthedocs.io/en/stable/user_install.html\">Jupyter\n",
       "  Widgets Documentation</a> for setup instructions.\n",
       "</p>\n",
       "<p>\n",
       "  If you're reading this message in another frontend (for example, a static\n",
       "  rendering on GitHub or <a href=\"https://nbviewer.jupyter.org/\">NBViewer</a>),\n",
       "  it may mean that your frontend doesn't currently support widgets.\n",
       "</p>\n"
      ],
      "text/plain": [
       "HBox(children=(IntProgress(value=0, description='Epoch', max=6), HTML(value='')))"
      ]
     },
     "metadata": {},
     "output_type": "display_data"
    },
    {
     "name": "stdout",
     "output_type": "stream",
     "text": [
      "[0.      0.75559 0.77744 0.5    ]                        \n",
      "[1.      0.82765 0.69054 0.53571]                        \n",
      "[2.      0.69016 0.61768 0.60714]                        \n",
      "[3.      0.73677 0.55683 0.75   ]                        \n",
      "[4.      0.63456 0.54039 0.64286]                        \n",
      "[5.      0.59349 0.52521 0.75   ]                        \n",
      "\n"
     ]
    }
   ],
   "source": [
    "learn.fit(0.01, 6, cycle_len=1)"
   ]
  },
  {
   "cell_type": "code",
   "execution_count": 110,
   "metadata": {},
   "outputs": [
    {
     "data": {
      "application/vnd.jupyter.widget-view+json": {
       "model_id": "3fcfadc281ad49419b39344acfad858e",
       "version_major": 2,
       "version_minor": 0
      },
      "text/html": [
       "<p>Failed to display Jupyter Widget of type <code>HBox</code>.</p>\n",
       "<p>\n",
       "  If you're reading this message in the Jupyter Notebook or JupyterLab Notebook, it may mean\n",
       "  that the widgets JavaScript is still loading. If this message persists, it\n",
       "  likely means that the widgets JavaScript library is either not installed or\n",
       "  not enabled. See the <a href=\"https://ipywidgets.readthedocs.io/en/stable/user_install.html\">Jupyter\n",
       "  Widgets Documentation</a> for setup instructions.\n",
       "</p>\n",
       "<p>\n",
       "  If you're reading this message in another frontend (for example, a static\n",
       "  rendering on GitHub or <a href=\"https://nbviewer.jupyter.org/\">NBViewer</a>),\n",
       "  it may mean that your frontend doesn't currently support widgets.\n",
       "</p>\n"
      ],
      "text/plain": [
       "HBox(children=(IntProgress(value=0, description='Epoch', max=6), HTML(value='')))"
      ]
     },
     "metadata": {},
     "output_type": "display_data"
    },
    {
     "name": "stdout",
     "output_type": "stream",
     "text": [
      "[0.      0.37008 0.51529 0.71429]                        \n",
      "[1.      0.36283 0.51039 0.75   ]                        \n",
      "[2.      0.52075 0.50817 0.67857]                        \n",
      "[3.      0.46542 0.51016 0.67857]                        \n",
      "[4.      0.45013 0.47766 0.71429]                        \n",
      "[5.      0.40968 0.48127 0.67857]                        \n",
      "\n"
     ]
    }
   ],
   "source": [
    "learn.fit(0.001, 6, cycle_len=1)"
   ]
  },
  {
   "cell_type": "code",
   "execution_count": 111,
   "metadata": {},
   "outputs": [],
   "source": [
    "tfms = tfms_from_model(arch, sz, aug_tfms=transforms_side_on, max_zoom=1.1)"
   ]
  },
  {
   "cell_type": "code",
   "execution_count": 113,
   "metadata": {},
   "outputs": [],
   "source": [
    "data = ImageClassifierData.from_paths(PATH, tfms=tfms, bs=bs, num_workers=4)\n",
    "learn = ConvLearner.pretrained(arch, data, precompute=True)\n",
    "# learn = ConvLearner.pretrained(arch, data, precompute=False)"
   ]
  },
  {
   "cell_type": "code",
   "execution_count": 114,
   "metadata": {
    "scrolled": false
   },
   "outputs": [
    {
     "data": {
      "application/vnd.jupyter.widget-view+json": {
       "model_id": "87812edcce974d0bacc87a488e505419",
       "version_major": 2,
       "version_minor": 0
      },
      "text/html": [
       "<p>Failed to display Jupyter Widget of type <code>HBox</code>.</p>\n",
       "<p>\n",
       "  If you're reading this message in the Jupyter Notebook or JupyterLab Notebook, it may mean\n",
       "  that the widgets JavaScript is still loading. If this message persists, it\n",
       "  likely means that the widgets JavaScript library is either not installed or\n",
       "  not enabled. See the <a href=\"https://ipywidgets.readthedocs.io/en/stable/user_install.html\">Jupyter\n",
       "  Widgets Documentation</a> for setup instructions.\n",
       "</p>\n",
       "<p>\n",
       "  If you're reading this message in another frontend (for example, a static\n",
       "  rendering on GitHub or <a href=\"https://nbviewer.jupyter.org/\">NBViewer</a>),\n",
       "  it may mean that your frontend doesn't currently support widgets.\n",
       "</p>\n"
      ],
      "text/plain": [
       "HBox(children=(IntProgress(value=0, description='Epoch', max=3), HTML(value='')))"
      ]
     },
     "metadata": {},
     "output_type": "display_data"
    },
    {
     "name": "stdout",
     "output_type": "stream",
     "text": [
      "[0.      0.9544  0.64868 0.57292]                        \n",
      "[1.      0.79977 0.63714 0.6875 ]                        \n",
      "[2.      0.75338 0.56948 0.80208]                        \n",
      "\n"
     ]
    }
   ],
   "source": [
    "# learn.fit(1e-2, 2)\n",
    "learn.fit(1e-3, 3)"
   ]
  },
  {
   "cell_type": "code",
   "execution_count": 115,
   "metadata": {
    "scrolled": false
   },
   "outputs": [
    {
     "data": {
      "application/vnd.jupyter.widget-view+json": {
       "model_id": "a47dac5882654b57b8bf7e96ba94e589",
       "version_major": 2,
       "version_minor": 0
      },
      "text/html": [
       "<p>Failed to display Jupyter Widget of type <code>HBox</code>.</p>\n",
       "<p>\n",
       "  If you're reading this message in the Jupyter Notebook or JupyterLab Notebook, it may mean\n",
       "  that the widgets JavaScript is still loading. If this message persists, it\n",
       "  likely means that the widgets JavaScript library is either not installed or\n",
       "  not enabled. See the <a href=\"https://ipywidgets.readthedocs.io/en/stable/user_install.html\">Jupyter\n",
       "  Widgets Documentation</a> for setup instructions.\n",
       "</p>\n",
       "<p>\n",
       "  If you're reading this message in another frontend (for example, a static\n",
       "  rendering on GitHub or <a href=\"https://nbviewer.jupyter.org/\">NBViewer</a>),\n",
       "  it may mean that your frontend doesn't currently support widgets.\n",
       "</p>\n"
      ],
      "text/plain": [
       "HBox(children=(IntProgress(value=0, description='Epoch', max=6), HTML(value='')))"
      ]
     },
     "metadata": {},
     "output_type": "display_data"
    },
    {
     "name": "stdout",
     "output_type": "stream",
     "text": [
      "[0.      0.52557 0.47721 0.84375]                        \n",
      "[1.      0.43665 0.37538 0.78125]                        \n",
      "[2.      0.35036 0.29775 0.86458]                        \n",
      "[3.      0.28075 0.29128 0.82292]                        \n",
      "[4.      0.25467 0.31716 0.875  ]                        \n",
      "[5.      0.25453 0.34047 0.84375]                        \n",
      "\n"
     ]
    }
   ],
   "source": [
    "# learn.fit(1e-2, 2)\n",
    "learn.fit(1e-2, 6)"
   ]
  },
  {
   "cell_type": "code",
   "execution_count": 116,
   "metadata": {
    "scrolled": true
   },
   "outputs": [
    {
     "data": {
      "application/vnd.jupyter.widget-view+json": {
       "model_id": "0b997a4081df4b3282b69b27031cfd36",
       "version_major": 2,
       "version_minor": 0
      },
      "text/html": [
       "<p>Failed to display Jupyter Widget of type <code>HBox</code>.</p>\n",
       "<p>\n",
       "  If you're reading this message in the Jupyter Notebook or JupyterLab Notebook, it may mean\n",
       "  that the widgets JavaScript is still loading. If this message persists, it\n",
       "  likely means that the widgets JavaScript library is either not installed or\n",
       "  not enabled. See the <a href=\"https://ipywidgets.readthedocs.io/en/stable/user_install.html\">Jupyter\n",
       "  Widgets Documentation</a> for setup instructions.\n",
       "</p>\n",
       "<p>\n",
       "  If you're reading this message in another frontend (for example, a static\n",
       "  rendering on GitHub or <a href=\"https://nbviewer.jupyter.org/\">NBViewer</a>),\n",
       "  it may mean that your frontend doesn't currently support widgets.\n",
       "</p>\n"
      ],
      "text/plain": [
       "HBox(children=(IntProgress(value=0, description='Epoch', max=3), HTML(value='')))"
      ]
     },
     "metadata": {},
     "output_type": "display_data"
    },
    {
     "name": "stdout",
     "output_type": "stream",
     "text": [
      "[0.      0.0954  0.34888 0.875  ]                         \n",
      "[1.      0.12323 0.36889 0.84375]                         \n",
      "[2.      0.09476 0.34643 0.875  ]                         \n",
      "\n"
     ]
    }
   ],
   "source": [
    "# learn.fit(1e-2, 2)\n",
    "learn.fit(1e-3, 3)"
   ]
  },
  {
   "cell_type": "code",
   "execution_count": 118,
   "metadata": {},
   "outputs": [
    {
     "name": "stdout",
     "output_type": "stream",
     "text": [
      "                                             \r"
     ]
    },
    {
     "data": {
      "text/plain": [
       "0.8571428571428571"
      ]
     },
     "execution_count": 118,
     "metadata": {},
     "output_type": "execute_result"
    }
   ],
   "source": [
    "log_preds,y = learn.TTA()\n",
    "accuracy(log_preds,y)\n",
    "# probs = np.mean(np.exp(log_preds),0)\n",
    "# accuracy_np(probs,y)"
   ]
  },
  {
   "cell_type": "markdown",
   "metadata": {},
   "source": [
    "---"
   ]
  },
  {
   "cell_type": "code",
   "execution_count": 23,
   "metadata": {},
   "outputs": [],
   "source": [
    "learn.precompute=False\n",
    "# learn.precompute=True"
   ]
  },
  {
   "cell_type": "code",
   "execution_count": null,
   "metadata": {},
   "outputs": [],
   "source": [
    "# learn.fit(1e-2, 2, cycle_len=1)\n",
    "learn.fit(1e-2, 6, cycle_len=1)"
   ]
  },
  {
   "cell_type": "code",
   "execution_count": null,
   "metadata": {},
   "outputs": [],
   "source": [
    "learn.unfreeze()"
   ]
  },
  {
   "cell_type": "code",
   "execution_count": null,
   "metadata": {},
   "outputs": [],
   "source": [
    "lr=np.array([1e-4,1e-3,1e-2])"
   ]
  },
  {
   "cell_type": "code",
   "execution_count": null,
   "metadata": {
    "scrolled": false
   },
   "outputs": [],
   "source": [
    "learn.fit(lr, 4, cycle_len=1)\n",
    "# learn.fit(lr, 2, cycle_len=1)"
   ]
  },
  {
   "cell_type": "code",
   "execution_count": null,
   "metadata": {},
   "outputs": [],
   "source": [
    "learn.fit(lr, 3, cycle_len=1, cycle_mult=2)"
   ]
  },
  {
   "cell_type": "code",
   "execution_count": null,
   "metadata": {},
   "outputs": [],
   "source": [
    "learn.fit(lr, 1, cycle_len=3)"
   ]
  },
  {
   "cell_type": "markdown",
   "metadata": {},
   "source": [
    "---"
   ]
  },
  {
   "cell_type": "code",
   "execution_count": 73,
   "metadata": {},
   "outputs": [
    {
     "name": "stdout",
     "output_type": "stream",
     "text": [
      "                                             \r"
     ]
    },
    {
     "data": {
      "text/plain": [
       "0.8571428571428571"
      ]
     },
     "execution_count": 73,
     "metadata": {},
     "output_type": "execute_result"
    }
   ],
   "source": [
    "log_preds,y = learn.TTA()\n",
    "accuracy(log_preds,y)\n",
    "# probs = np.mean(np.exp(log_preds),0)\n",
    "# accuracy_np(probs,y)"
   ]
  },
  {
   "cell_type": "markdown",
   "metadata": {},
   "source": [
    "---"
   ]
  }
 ],
 "metadata": {
  "kernelspec": {
   "display_name": "Python 3",
   "language": "python",
   "name": "python3"
  },
  "language_info": {
   "codemirror_mode": {
    "name": "ipython",
    "version": 3
   },
   "file_extension": ".py",
   "mimetype": "text/x-python",
   "name": "python",
   "nbconvert_exporter": "python",
   "pygments_lexer": "ipython3",
   "version": "3.6.4"
  },
  "toc": {
   "colors": {
    "hover_highlight": "#DAA520",
    "navigate_num": "#000000",
    "navigate_text": "#333333",
    "running_highlight": "#FF0000",
    "selected_highlight": "#FFD700",
    "sidebar_border": "#EEEEEE",
    "wrapper_background": "#FFFFFF"
   },
   "moveMenuLeft": true,
   "nav_menu": {
    "height": "266px",
    "width": "252px"
   },
   "navigate_menu": true,
   "number_sections": true,
   "sideBar": true,
   "threshold": 4,
   "toc_cell": false,
   "toc_section_display": "block",
   "toc_window_display": false,
   "widenNotebook": false
  }
 },
 "nbformat": 4,
 "nbformat_minor": 2
}
